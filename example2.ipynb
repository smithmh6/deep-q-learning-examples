{
 "cells": [
  {
   "cell_type": "markdown",
   "metadata": {},
   "source": [
    "# A Minimal Deep Q-Learning Implementation (minDQN)\n",
    "Running this code will render the agent solving the CartPole\n",
    "environment using OpenAI gym. Our Minimal Deep Q-Network is\n",
    "approximately 150 lines of code. In addition, this implementation\n",
    "uses Tensorflow and Keras and should generally run in less than 15 minutes."
   ]
  },
  {
   "cell_type": "code",
   "execution_count": 3,
   "metadata": {},
   "outputs": [
    {
     "name": "stdout",
     "output_type": "stream",
     "text": [
      "TensorFlow version: 2.8.0\n",
      "TensorFlow has access to the following devices:\n",
      "[PhysicalDevice(name='/physical_device:CPU:0', device_type='CPU'), PhysicalDevice(name='/physical_device:GPU:0', device_type='GPU')]\n"
     ]
    }
   ],
   "source": [
    "# import packages\n",
    "import gym\n",
    "import numpy as np\n",
    "import tensorflow as tf\n",
    "from tensorflow.keras import Sequential\n",
    "from tensorflow.keras.initializers import HeUniform\n",
    "from tensorflow.keras.layers import Dense\n",
    "from tensorflow.keras.losses import Huber\n",
    "from tensorflow.keras.optimizers import Adam\n",
    "\n",
    "# See TensorFlow version\n",
    "print(f\"TensorFlow version: {tf.__version__}\")\n",
    "# Check for TensorFlow GPU access\n",
    "print(\n",
    "    f'TensorFlow has access to the following devices:'\n",
    "    + f'\\n{tf.config.list_physical_devices()}'\n",
    ")\n"
   ]
  },
  {
   "cell_type": "markdown",
   "metadata": {},
   "source": [
    "# Setup Learning Agent\n",
    "Setup the learning agent and seed the random number function."
   ]
  },
  {
   "cell_type": "code",
   "execution_count": 7,
   "metadata": {},
   "outputs": [
    {
     "name": "stdout",
     "output_type": "stream",
     "text": [
      "There are 2 actions in the CartPole-v1 environment.\n",
      "The action space is:\n",
      " Discrete(2)\n",
      "\n",
      "The observation space is:\n",
      " Box([-4.8000002e+00 -3.4028235e+38 -4.1887903e-01 -3.4028235e+38], [4.8000002e+00 3.4028235e+38 4.1887903e-01 3.4028235e+38], (4,), float32)\n",
      "\n",
      "Obs. High = [4.8000002e+00 3.4028235e+38 4.1887903e-01 3.4028235e+38]\n",
      "Obs. Low = [-4.8000002e+00 -3.4028235e+38 -4.1887903e-01 -3.4028235e+38]\n",
      "Obs. Shape = (4,)\n"
     ]
    }
   ],
   "source": [
    "RANDOM_SEED = 5  # seed the random number generation\n",
    "ENV_NAME = 'CartPole-v1'  # define the gym environment name\n",
    "TRAIN_EPISODES = 300  # number of training episodes\n",
    "TEST_EPISODES = 100  # number of test episodes\n",
    "\n",
    "# create the environment\n",
    "env = gym.make(ENV_NAME)\n",
    "\n",
    "# seed random numbers\n",
    "tf.random.set_seed(RANDOM_SEED)\n",
    "np.random.seed(RANDOM_SEED)\n",
    "env.seed(RANDOM_SEED)\n",
    "\n",
    "# get the number of actions available\n",
    "# for the agent in the environment\n",
    "num_actions = env.action_space.n\n",
    "\n",
    "print(f'There are {num_actions} actions in the {ENV_NAME} environment.')\n",
    "print(f'The action space is:\\n {env.action_space}')\n",
    "print(f'\\nThe observation space is:\\n {env.observation_space}')\n",
    "print(f'\\nObs. High = {env.observation_space.high}')\n",
    "print(f'Obs. Low = {env.observation_space.low}')\n",
    "print(f'Obs. Shape = {env.observation_space.shape}')"
   ]
  },
  {
   "cell_type": "markdown",
   "metadata": {},
   "source": [
    "# Construct the Model\n",
    "The agent maps X-states to Y-actions. For this problem, we will use a 3-layer architecture consisting of a single, fully connected, input layer with a 'ReLU' activation function and two more fully connected layers with 'ReLU' and 'Linear' activation functions, respectively. For example, if the neural network output is [.1, .7, .1, .3], the highest value, 0.7, is the Q-value. The index of the highest value is (1)."
   ]
  },
  {
   "cell_type": "code",
   "execution_count": 9,
   "metadata": {},
   "outputs": [
    {
     "name": "stderr",
     "output_type": "stream",
     "text": [
      "2022-02-16 20:24:25.354485: I tensorflow/core/common_runtime/pluggable_device/pluggable_device_factory.cc:305] Could not identify NUMA node of platform GPU ID 0, defaulting to 0. Your kernel may not have been built with NUMA support.\n",
      "2022-02-16 20:24:25.354679: I tensorflow/core/common_runtime/pluggable_device/pluggable_device_factory.cc:271] Created TensorFlow device (/job:localhost/replica:0/task:0/device:GPU:0 with 0 MB memory) -> physical PluggableDevice (device: 0, name: METAL, pci bus id: <undefined>)\n"
     ]
    },
    {
     "name": "stdout",
     "output_type": "stream",
     "text": [
      "Metal device set to: Apple M1\n",
      "\n",
      "systemMemory: 16.00 GB\n",
      "maxCacheSize: 5.33 GB\n",
      "\n",
      "Model: \"sequential\"\n",
      "_________________________________________________________________\n",
      " Layer (type)                Output Shape              Param #   \n",
      "=================================================================\n",
      " dense_3 (Dense)             (None, 24)                120       \n",
      "                                                                 \n",
      " dense_4 (Dense)             (None, 12)                300       \n",
      "                                                                 \n",
      " dense_5 (Dense)             (None, 2)                 26        \n",
      "                                                                 \n",
      "=================================================================\n",
      "Total params: 446\n",
      "Trainable params: 446\n",
      "Non-trainable params: 0\n",
      "_________________________________________________________________\n",
      "None\n"
     ]
    }
   ],
   "source": [
    "# define the initialization kernel\n",
    "init_kernel = HeUniform()\n",
    "\n",
    "# define the model\n",
    "model = Sequential([\n",
    "    Dense(\n",
    "        24,\n",
    "        input_shape=env.observation_space.shape,\n",
    "        activation='relu',\n",
    "        kernel_initializer=init_kernel\n",
    "    ),\n",
    "    Dense(12, activation='relu', kernel_initializer=init_kernel),\n",
    "    Dense(env.action_space.n, activation='linear', kernel_initializer=init_kernel)\n",
    "])\n",
    "\n",
    "# display the model summary\n",
    "print(model.summary())"
   ]
  }
 ],
 "metadata": {
  "interpreter": {
   "hash": "cd79eea545dbfd2764bba0583150dc38c2f729089abe494984374700b224658f"
  },
  "kernelspec": {
   "display_name": "Python 3.9.7 (conda)",
   "language": "python",
   "name": "python3"
  },
  "language_info": {
   "codemirror_mode": {
    "name": "ipython",
    "version": 3
   },
   "file_extension": ".py",
   "mimetype": "text/x-python",
   "name": "python",
   "nbconvert_exporter": "python",
   "pygments_lexer": "ipython3",
   "version": "3.9.7"
  },
  "orig_nbformat": 4
 },
 "nbformat": 4,
 "nbformat_minor": 2
}
